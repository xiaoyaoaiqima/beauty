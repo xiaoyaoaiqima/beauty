{
 "cells": [
  {
   "cell_type": "code",
   "execution_count": 6,
   "metadata": {},
   "outputs": [
    {
     "name": "stdout",
     "output_type": "stream",
     "text": [
      "e:\\Aproject\\RWD\\Bikin\\pic\n",
      "所有JPG图片裁剪完成。\n"
     ]
    }
   ],
   "source": [
    "import os\n",
    "from PIL import Image\n",
    "\n",
    "# 定义目标尺寸\n",
    "target_width = 720\n",
    "target_height = 480\n",
    "\n",
    "# 获取当前文件路径\n",
    "current_directory = os.getcwd()\n",
    "print(current_directory)\n",
    "\n",
    "# 获取当前路径下的所有文件\n",
    "files = os.listdir(current_directory)\n",
    "\n",
    "# 过滤出所有JPG文件\n",
    "jpg_files = [file for file in files if file.lower().endswith('.jpg')]\n",
    "\n",
    "# 裁剪图片函数\n",
    "def crop_image(image_path, output_path, target_width, target_height):\n",
    "    with Image.open(image_path) as img:\n",
    "        width, height = img.size\n",
    "        # 计算裁剪的起始位置\n",
    "        left = (width - target_width) / 2\n",
    "        top = (height - target_height) / 2\n",
    "        right = (width + target_width) / 2\n",
    "        bottom = (height + target_height) / 2\n",
    "        \n",
    "        # 裁剪并保存图片\n",
    "        img = img.crop((left, top, right, bottom))\n",
    "        img.save(output_path)\n",
    "\n",
    "# 遍历所有JPG文件并裁剪\n",
    "for jpg_file in jpg_files:\n",
    "    input_path = os.path.join(current_directory, jpg_file)\n",
    "    output_path = os.path.join(current_directory, f\"cropped_{jpg_file}\")\n",
    "    crop_image(input_path, input_path, target_width, target_height)\n",
    "\n",
    "print(\"所有JPG图片裁剪完成。\")\n"
   ]
  }
 ],
 "metadata": {
  "kernelspec": {
   "display_name": "base",
   "language": "python",
   "name": "python3"
  },
  "language_info": {
   "codemirror_mode": {
    "name": "ipython",
    "version": 3
   },
   "file_extension": ".py",
   "mimetype": "text/x-python",
   "name": "python",
   "nbconvert_exporter": "python",
   "pygments_lexer": "ipython3",
   "version": "3.9.13"
  }
 },
 "nbformat": 4,
 "nbformat_minor": 2
}
